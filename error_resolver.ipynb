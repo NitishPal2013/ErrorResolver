{
 "cells": [
  {
   "cell_type": "markdown",
   "id": "c4510512-c74c-46d9-a808-1750004be5b6",
   "metadata": {},
   "source": [
    "# ERROR resolver"
   ]
  },
  {
   "cell_type": "code",
   "execution_count": 1,
   "id": "83878a96-a784-4dd5-9220-aeeff8bc69c6",
   "metadata": {},
   "outputs": [],
   "source": [
    "# ExacliLink https://excalidraw.com/#json=u_ZS4c7CF3QhMM60l5po3,atjcqrngKQiBYkYvZQmldQ"
   ]
  },
  {
   "cell_type": "code",
   "execution_count": 2,
   "id": "cd0086c4-bb1c-44e3-8032-bd784146f461",
   "metadata": {},
   "outputs": [],
   "source": [
    "# Role: you are an coding assistant expert in \n",
    "# the tech stack.\n",
    "# Instructions:\n",
    "# you have given a set of details of a\n",
    "# project containing environments, tech stack,language,\n",
    "# a Error statement.\n",
    "#  Your task is to convert the details into a prompt for exa.ai api search such that it gives the best result.\n",
    "# ouput format should JSON containing field original_details , Exa_api_prompt."
   ]
  },
  {
   "cell_type": "code",
   "execution_count": 4,
   "id": "1a092392-dcb9-432f-9b10-3866f6ff8252",
   "metadata": {},
   "outputs": [
    {
     "data": {
      "text/plain": [
       "True"
      ]
     },
     "execution_count": 4,
     "metadata": {},
     "output_type": "execute_result"
    }
   ],
   "source": [
    "import os \n",
    "from dotenv import load_dotenv\n",
    "load_dotenv()"
   ]
  },
  {
   "cell_type": "code",
   "execution_count": 4,
   "id": "896c623b-35ab-4101-8b57-f52f45bdf621",
   "metadata": {},
   "outputs": [],
   "source": [
    "from langchain_exa import ExaSearchRetriever\n",
    "from langchain_google_genai import GoogleGenerativeAI, ChatGoogleGenerativeAI\n",
    "from langchain_core.prompts import ChatPromptTemplate, PromptTemplate\n",
    "from langchain_core.runnables import RunnablePassthrough, RunnableParallel, RunnableLambda"
   ]
  },
  {
   "cell_type": "code",
   "execution_count": 5,
   "id": "e0a3e38c-d9ab-46d3-b531-9b5224ced4cd",
   "metadata": {},
   "outputs": [],
   "source": [
    "exa_retriever = ExaSearchRetriever(k=4,type=\"keyword\", text_contents_options=True, use_autoprompt=True, include_domains=[\"stackoverflow.com\"])"
   ]
  },
  {
   "cell_type": "code",
   "execution_count": null,
   "id": "428b0a63-1ce3-41c4-adf7-6d08f732d99c",
   "metadata": {},
   "outputs": [],
   "source": []
  },
  {
   "cell_type": "code",
   "execution_count": 93,
   "id": "1e615d0c-6861-4a76-8e55-aa7e2f15427c",
   "metadata": {},
   "outputs": [],
   "source": [
    "google_api_key = os.environ[\"GENAI_API_KEY\"]\n",
    "gemini = GoogleGenerativeAI(model=\"gemini-1.0-pro-latest\",google_api_key=google_api_key)\n",
    "chat_gemini = ChatGoogleGenerativeAI(model=\"gemini-1.0-pro-latest\",google_api_key=google_api_key,convert_system_message_to_human=True)"
   ]
  },
  {
   "cell_type": "code",
   "execution_count": 69,
   "id": "cf6f1414-c99c-4a29-b2b5-77e400b67060",
   "metadata": {},
   "outputs": [],
   "source": [
    "doc_prompt = PromptTemplate.from_template(\n",
    "    \"\"\"<source>\n",
    "    <url>{url}</url>\n",
    "    <text>{text}</text>\n",
    "    </source>\n",
    "    \"\"\"\n",
    ")\n",
    "\n",
    "doc_chain = (RunnableLambda(lambda doc:{\n",
    "    \"text\":doc.page_content,\"url\":doc.metadata[\"url\"]}) | doc_prompt)"
   ]
  },
  {
   "cell_type": "code",
   "execution_count": 78,
   "id": "80d42a73-b89f-4c0a-9182-d589efe996e8",
   "metadata": {},
   "outputs": [],
   "source": [
    "exa_retrieval_chain = (\n",
    "    exa_retriever | doc_chain.map() | ( lambda docs : \"\\n\".join([i.text.replace(\"\\n\\n\",\"\") for i in docs]))\n",
    ")"
   ]
  },
  {
   "cell_type": "code",
   "execution_count": 79,
   "id": "26db0d8c-f395-4798-a575-b2bc2bea9e5e",
   "metadata": {},
   "outputs": [],
   "source": [
    "output = exa_retrieval_chain.invoke(\"Warning: Each child in a list should have a unique 'key' prop.\")"
   ]
  },
  {
   "cell_type": "code",
   "execution_count": 98,
   "id": "66de7417-1d45-4f21-a25a-d35c24ec7e10",
   "metadata": {},
   "outputs": [],
   "source": [
    "main_resolver_prompt = ChatPromptTemplate.from_messages(\n",
    "    [\n",
    "        (\n",
    "            \"system\",\"You are an expert coding assistant which resolves Coding errors with explanation.You use xml-formatted context to research peoples's questions. Ouput format is MARKDOWN.\"\n",
    "        ),\n",
    "        (\n",
    "            \"human\",\n",
    "            \"\"\"\n",
    "            Please solve the Error given below by analyze the context and your knowledge. Do not add any context example make your own example to show .Please cite your resources at the end of your response.\n",
    "            Error: {Error}\n",
    "            ---------------\n",
    "            <context>\n",
    "            {context}\n",
    "            </context>\"\"\"\n",
    "        )\n",
    "    ]\n",
    ")"
   ]
  },
  {
   "cell_type": "code",
   "execution_count": 99,
   "id": "a3cb616b-9539-4bb1-ae17-56662bd93642",
   "metadata": {},
   "outputs": [],
   "source": [
    "resolver = (\n",
    "    RunnableParallel(\n",
    "        {\n",
    "            \"Error\": RunnablePassthrough(),\n",
    "            \"context\": exa_retrieval_chain,\n",
    "        }\n",
    "    )\n",
    "    |main_resolver_prompt\n",
    "    | chat_gemini\n",
    ").with_types(input_type=str)"
   ]
  },
  {
   "cell_type": "code",
   "execution_count": 100,
   "id": "31ded9e0-9773-4049-b3f8-f4dfea4ebb5a",
   "metadata": {},
   "outputs": [],
   "source": [
    "response = resolver.invoke(\"Warning: Each child in a list should have a unique 'key' prop\")"
   ]
  },
  {
   "cell_type": "code",
   "execution_count": 101,
   "id": "69b97448-b25a-47c6-a9ea-b1658d19caf9",
   "metadata": {
    "scrolled": true
   },
   "outputs": [
    {
     "name": "stdout",
     "output_type": "stream",
     "text": [
      "**Error**: Warning: Each child in a list should have a unique 'key' prop. Check the render method of ListView.\n",
      "\n",
      "**Explanation**:\n",
      "When rendering a list of items in React, each item must have a unique 'key' prop. This key is used by React to identify each item and track changes over time. If two items have the same key, React may not be able to correctly update the DOM, which can lead to unexpected behavior.\n",
      "\n",
      "**Solution**:\n",
      "To fix this error, you need to add a unique key prop to each item in the list. The key can be any value, but it must be unique among the items in the list. A common approach is to use the item's ID or index as the key.\n",
      "\n",
      "Here is an example of how to add a key prop to each item in the list:\n",
      "\n",
      "```javascript\n",
      "render() {\n",
      " var store = this.props.store;\n",
      " return (\n",
      " <ListView\n",
      " dataSource={this.state.dataSource}\n",
      " renderHeader={this.renderHeader.bind(this)}\n",
      " renderRow={this.renderDetailItem.bind(this)}\n",
      " renderSeparator={this.renderSeparator.bind(this)}\n",
      " style={styles.listView}\n",
      " />\n",
      " );\n",
      "}\n",
      " \n",
      "  var detailItems = [];\n",
      " detailItems.push( new DetailItem('plain', store.address) );\n",
      " detailItems.push( new DetailItem('map', '') );\n",
      " if(store.telefon) {\n",
      " detailItems.push( new DetailItem('contact', store.telefon, 'Anrufen', 'fontawesome|phone') );\n",
      " }\n",
      " if(store.email) {\n",
      " detailItems.push( new DetailItem('contact', store.email, 'Email', 'fontawesome|envelope') );\n",
      " }\n",
      " detailItems.push( new DetailItem('moreInfo', '') );\n",
      " this.setState({\n",
      " dataSource: this.state.dataSource.cloneWithRows(detailItems)\n",
      " });\n",
      " \n",
      "  return (\n",
      " <TouchableHighlight underlayColor='#dddddd'>\n",
      " <View style={styles.infoRow}>\n",
      " <Icon\n",
      " name={item.icon}\n",
      " size={30}\n",
      " color='gray'\n",
      " style={styles.contactIcon}\n",
      " />\n",
      " <View style={{ flex: 1}}>\n",
      " <Text style={styles.headline}>{item.headline}</Text>\n",
      " <Text style={styles.details}>{item.text}</Text>\n",
      " </View>\n",
      " <View style={styles.separator}/>\n",
      " </View>\n",
      " </TouchableHighlight>\n",
      " );\n",
      "```\n",
      "In this example, the key prop is set to the item's index in the list. This ensures that each item has a unique key, which will allow React to correctly update the DOM.\n",
      "\n",
      "**Additional Notes**:\n",
      "It is important to note that the key prop is only used by React for identification purposes. It is not displayed to the user, and it does not affect the appearance or behavior of the list items.\n",
      "\n",
      "Also, it is not recommended to use the index of the item as the key if the list is subject to change. If the order of the items changes, the keys will also change, which can cause React to re-render the entire list.\n"
     ]
    }
   ],
   "source": [
    "print(response.content)"
   ]
  },
  {
   "cell_type": "markdown",
   "id": "39120e4c-b718-447f-91cf-4d72bc757f21",
   "metadata": {},
   "source": [
    "**Error**: Warning: Each child in a list should have a unique 'key' prop. Check the render method of ListView.\r\n",
    "\r\n",
    "**Explanation**:\r\n",
    "When rendering a list of items in React, each item must have a unique 'key' prop. This key is used by React to identify each item and track changes over time. If two items have the same key, React may not be able to correctly update the DOM, which can lead to unexpected behavior.\r\n",
    "\r\n",
    "**Solution**:\r\n",
    "To fix this error, you need to add a unique key prop to each item in the list. The key can be any value, but it must be unique among the items in the list. A common approach is to use the item's ID or index as the key.\r\n",
    "\r\n",
    "Here is an example of how to add a key prop to each item in the list:\r\n",
    "\r\n",
    "```javascript\r\n",
    "render() {\r\n",
    " var store = this.props.store;\r\n",
    " return (\r\n",
    " <ListView\r\n",
    " dataSource={this.state.dataSource}\r\n",
    " renderHeader={this.renderHeader.bind(this)}\r\n",
    " renderRow={this.renderDetailItem.bind(this)}\r\n",
    " renderSeparator={this.renderSeparator.bind(this)}\r\n",
    " style={styles.listView}\r\n",
    " />\r\n",
    " );\r\n",
    "}\r\n",
    " \r\n",
    "  var detailItems = [];\r\n",
    " detailItems.push( new DetailItem('plain', store.address) );\r\n",
    " detailItems.push( new DetailItem('map', '') );\r\n",
    " if(store.telefon) {\r\n",
    " detailItems.push( new DetailItem('contact', store.telefon, 'Anrufen', 'fontawesome|phone') );\r\n",
    " }\r\n",
    " if(store.email) {\r\n",
    " detailItems.push( new DetailItem('contact', store.email, 'Email', 'fontawesome|envelope') );\r\n",
    " }\r\n",
    " detailItems.push( new DetailItem('moreInfo', '') );\r\n",
    " this.setState({\r\n",
    " dataSource: this.state.dataSource.cloneWithRows(detailItems)\r\n",
    " });\r\n",
    " \r\n",
    "  return (\r\n",
    " <TouchableHighlight underlayColor='#dddddd'>\r\n",
    " <View style={styles.infoRow}>\r\n",
    " <Icon\r\n",
    " name={item.icon}\r\n",
    " size={30}\r\n",
    " color='gray'\r\n",
    " style={styles.contactIcon}\r\n",
    " />\r\n",
    " <View style={{ flex: 1}}>\r\n",
    " <Text style={styles.headline}>{item.headline}</Text>\r\n",
    " <Text style={styles.details}>{item.text}</Text>\r\n",
    " </View>\r\n",
    " <View style={styles.separator}/>\r\n",
    " </View>\r\n",
    " </TouchableHighlight>\r\n",
    " );\r\n",
    "```\r\n",
    "In this example, the key prop is set to the item's index in the list. This ensures that each item has a unique key, which will allow React to correctly update the DOM.\r\n",
    "\r\n",
    "**Additional Notes**:\r\n",
    "It is important to note that the key prop is only used by React for identification purposes. It is not displayed to the user, and it does not affect the appearance or behavior of the list items.\r\n",
    "\r\n",
    "Also, it is not recommended to use the index of the item as the key if the list is subject to change. If the order of the items changes, the keys will also change, which can cause React to re-render the entire list."
   ]
  },
  {
   "cell_type": "code",
   "execution_count": 2,
   "id": "8aa43c7a-cd20-4cb2-80e1-2f7c590700e5",
   "metadata": {},
   "outputs": [
    {
     "ename": "ImportError",
     "evalue": "cannot import name 'ChainLLM' from 'langchain.llms' (U:\\CodingAssistant\\virenv\\Lib\\site-packages\\langchain\\llms\\__init__.py)",
     "output_type": "error",
     "traceback": [
      "\u001b[1;31m---------------------------------------------------------------------------\u001b[0m",
      "\u001b[1;31mImportError\u001b[0m                               Traceback (most recent call last)",
      "Cell \u001b[1;32mIn[2], line 1\u001b[0m\n\u001b[1;32m----> 1\u001b[0m \u001b[38;5;28;01mfrom\u001b[39;00m \u001b[38;5;21;01mlangchain\u001b[39;00m\u001b[38;5;21;01m.\u001b[39;00m\u001b[38;5;21;01mllms\u001b[39;00m \u001b[38;5;28;01mimport\u001b[39;00m ChainLLM\n\u001b[0;32m      2\u001b[0m \u001b[38;5;28;01mfrom\u001b[39;00m \u001b[38;5;21;01mlangchain\u001b[39;00m\u001b[38;5;21;01m.\u001b[39;00m\u001b[38;5;21;01magents\u001b[39;00m \u001b[38;5;28;01mimport\u001b[39;00m InteractiveAgent\n\u001b[0;32m      3\u001b[0m \u001b[38;5;28;01mfrom\u001b[39;00m \u001b[38;5;21;01mlangchain\u001b[39;00m\u001b[38;5;21;01m.\u001b[39;00m\u001b[38;5;21;01mprompts\u001b[39;00m \u001b[38;5;28;01mimport\u001b[39;00m ChatPromptTemplate\n",
      "\u001b[1;31mImportError\u001b[0m: cannot import name 'ChainLLM' from 'langchain.llms' (U:\\CodingAssistant\\virenv\\Lib\\site-packages\\langchain\\llms\\__init__.py)"
     ]
    }
   ],
   "source": [
    "from langchain_core.llms import ChainLLM\n",
    "from langchain_core.agents import InteractiveAgent\n",
    "from langchain_core.prompts import ChatPromptTemplate\n",
    "from exa import Client\n",
    "from langchain_google_genai import ChatGoogleGenerativeAI\n",
    "import os\n",
    "from dotenv import load_dotenv\n",
    "load_dotenv()\n",
    "# Replace with your Exa API key\n",
    "exa_client = Client(api_key=os.environ[\"EXA_API_KEY\"])\n",
    "\n",
    "# Initialize Gemini-Pro using Langchain's integration\n",
    "llm = ChainLLM(ChatGoogleGenerativeAI(model=\"gemini-1.0-pro-latest\",google_api_key = os.environ[\"GENAI_API_KEY\"], temperature=0.7))\n",
    "\n",
    "# # Define the conversation flow using Langchain prompts\n",
    "# main_resolver_prompt = ChatPromptTemplate.from_messages(\n",
    "#     [\n",
    "#         (\"system\", \"Hi there! I'm Bard, your helpful coding assistant.\"),\n",
    "#         (\n",
    "#             \"system\",\n",
    "#             \"\"\"To understand your issue better, please tell me:\\n\n",
    "#              - What specific error message are you encountering?\\n\n",
    "#              - Can you describe the steps you were taking when the error occurred?\\n\n",
    "#              - If possible, could you share a relevant code snippet or link to your code?\"\"\"\n",
    "#         ),\n",
    "#         (\"human\", \"---\"),  # Placeholder for user input\n",
    "#         (\"system\", \"Ok, thanks for the details. Let me see how I can help...\"),\n",
    "#         # Dynamic context exploration based on user input\n",
    "#         (\"system\", context_exploration_prompt(\"${user_response.context.mentions}\")),\n",
    "#         # Exa search for common causes and solutions\n",
    "#         (\"system\", \"I've searched for explanations about this error:\"),\n",
    "#         [\n",
    "#             (\n",
    "#                 \"system\",\n",
    "#                 f\"- {exa_client.summarize(explanation_url)} (source: {explanation_url})\"\n",
    "#             )\n",
    "#             for explanation_url in exa_client.search(\n",
    "#                 \"explanation for error\", \"${user_response.error}\"\n",
    "#             )[0:2]\n",
    "#         ],\n",
    "#         # Exa search for similar issues on forums/blogs\n",
    "#         (\"system\", \"Here are some discussions about similar issues:\"),\n",
    "#         [\n",
    "#             (\n",
    "#                 \"system\",\n",
    "#                 f\"- {forum_post_url} ({forum_post_title})\"\n",
    "#             )\n",
    "#             for forum_post_url, forum_post_title in exa_client.search(\n",
    "#                 \"forum posts for error\", \"${user_response.error}\"\n",
    "#             )[0:2]\n",
    "#         ],\n",
    "#         # Offer potential solutions based on common causes\n",
    "#         (\"system\", \"Here are some potential solutions based on common causes:\"),\n",
    "#         [\n",
    "#             (\n",
    "#                 \"system\",\n",
    "#                 f\"- **Solution {i+1}:** {simple_explanation(common_cause)}\"\n",
    "#             )\n",
    "#             for i, common_cause in enumerate(\n",
    "#                 exa_client.search(\"common causes for error\", \"${user_response.error}\")[0:2]\n",
    "#             )\n",
    "#         ],\n",
    "#         (\"system\", \"Is there anything else I can help you with?\"),\n",
    "#     ]\n",
    "# )\n",
    "\n",
    "# # Function for dynamic context exploration (modify based on your extraction logic)\n",
    "# def context_exploration_prompt(mentions):\n",
    "#     prompts = []\n",
    "#     for mention in mentions:\n",
    "#         prompts.append(f\"Can you tell me more about the role of {mention} in your code?\")\n",
    "#     return prompts[0]  # Choose one prompt for now\n",
    "\n",
    "# # Function for explaining common causes in simple terms (replace with your logic)\n",
    "# def simple_explanation(common_cause):\n",
    "#     # Use Exa or other sources to find a simple explanation for the common cause\n",
    "#     explanation_url = exa_client.search(\n",
    "#         \"simple explanation for\", f\"{common_cause} programming error\"\n",
    "#     )[0]\n",
    "#     return exa_client.summarize(explanation_url)\n",
    "\n",
    "# # Initialize the chatbot agent\n",
    "# agent = InteractiveAgent(main_resolver_prompt, llm=llm)\n",
    "\n",
    "# # Start the conversation\n",
    "# agent.run()\n"
   ]
  },
  {
   "cell_type": "code",
   "execution_count": null,
   "id": "ee6f7811-fc7a-4157-b98c-3faf3016d2a1",
   "metadata": {},
   "outputs": [],
   "source": []
  }
 ],
 "metadata": {
  "kernelspec": {
   "display_name": "Python 3 (ipykernel)",
   "language": "python",
   "name": "python3"
  },
  "language_info": {
   "codemirror_mode": {
    "name": "ipython",
    "version": 3
   },
   "file_extension": ".py",
   "mimetype": "text/x-python",
   "name": "python",
   "nbconvert_exporter": "python",
   "pygments_lexer": "ipython3",
   "version": "3.12.1"
  }
 },
 "nbformat": 4,
 "nbformat_minor": 5
}
